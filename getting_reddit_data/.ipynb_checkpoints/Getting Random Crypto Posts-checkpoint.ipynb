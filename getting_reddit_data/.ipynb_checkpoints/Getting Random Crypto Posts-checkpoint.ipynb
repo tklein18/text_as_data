{
 "cells": [
  {
   "cell_type": "code",
   "execution_count": 3,
   "metadata": {},
   "outputs": [],
   "source": [
    "import praw\n",
    "import pandas as pd"
   ]
  },
  {
   "cell_type": "markdown",
   "metadata": {},
   "source": [
    "Loading my reddit info"
   ]
  },
  {
   "cell_type": "code",
   "execution_count": 4,
   "metadata": {},
   "outputs": [],
   "source": [
    "reddit = praw.Reddit(\n",
    "    client_id='C0hV0oPDS4zxHVqzEhcUVw',\n",
    "    client_secret='8Z_rDlP554yqq8UYKjH2SVW6JOoaYg',\n",
    "    user_agent='Prestigious-Wing-432'\n",
    ")"
   ]
  },
  {
   "cell_type": "markdown",
   "metadata": {},
   "source": [
    "Reading in random reddit posts - will use this as the base of my data. Doing random posts from these subreddits, rather than hot or new, because those have strict 1000 post limits. I want to get a random sample of probably more than a 1000 posts. "
   ]
  },
  {
   "cell_type": "code",
   "execution_count": 75,
   "metadata": {},
   "outputs": [
    {
     "data": {
      "text/html": [
       "<div>\n",
       "<style scoped>\n",
       "    .dataframe tbody tr th:only-of-type {\n",
       "        vertical-align: middle;\n",
       "    }\n",
       "\n",
       "    .dataframe tbody tr th {\n",
       "        vertical-align: top;\n",
       "    }\n",
       "\n",
       "    .dataframe thead th {\n",
       "        text-align: right;\n",
       "    }\n",
       "</style>\n",
       "<table border=\"1\" class=\"dataframe\">\n",
       "  <thead>\n",
       "    <tr style=\"text-align: right;\">\n",
       "      <th></th>\n",
       "      <th>title</th>\n",
       "      <th>score</th>\n",
       "      <th>id</th>\n",
       "      <th>subreddit</th>\n",
       "      <th>url</th>\n",
       "      <th>num_comments</th>\n",
       "      <th>body</th>\n",
       "      <th>created</th>\n",
       "    </tr>\n",
       "  </thead>\n",
       "  <tbody>\n",
       "    <tr>\n",
       "      <th>37</th>\n",
       "      <td>Artificial price inflation question.</td>\n",
       "      <td>23</td>\n",
       "      <td>toeaum</td>\n",
       "      <td>BitcoinBeginners</td>\n",
       "      <td>https://www.reddit.com/r/BitcoinBeginners/comm...</td>\n",
       "      <td>66</td>\n",
       "      <td>I was chatting with a friend of mines father w...</td>\n",
       "      <td>1.648261e+09</td>\n",
       "    </tr>\n",
       "    <tr>\n",
       "      <th>45</th>\n",
       "      <td>Paypal</td>\n",
       "      <td>31</td>\n",
       "      <td>tok1pc</td>\n",
       "      <td>BitcoinBeginners</td>\n",
       "      <td>https://www.reddit.com/r/BitcoinBeginners/comm...</td>\n",
       "      <td>49</td>\n",
       "      <td>is just me or does buying bitcoin with PayPal,...</td>\n",
       "      <td>1.648283e+09</td>\n",
       "    </tr>\n",
       "    <tr>\n",
       "      <th>54</th>\n",
       "      <td>Just a reminder: If Bitcoin is widely adopted,...</td>\n",
       "      <td>1779</td>\n",
       "      <td>tp1ep3</td>\n",
       "      <td>Bitcoin</td>\n",
       "      <td>https://v.redd.it/nkti6c3d7sp81</td>\n",
       "      <td>465</td>\n",
       "      <td></td>\n",
       "      <td>1.648324e+09</td>\n",
       "    </tr>\n",
       "    <tr>\n",
       "      <th>46</th>\n",
       "      <td>Talking About Sats</td>\n",
       "      <td>21</td>\n",
       "      <td>tp6gxb</td>\n",
       "      <td>BitcoinBeginners</td>\n",
       "      <td>https://www.reddit.com/r/BitcoinBeginners/comm...</td>\n",
       "      <td>41</td>\n",
       "      <td>How are we actually supposed to talk about sat...</td>\n",
       "      <td>1.648335e+09</td>\n",
       "    </tr>\n",
       "    <tr>\n",
       "      <th>35</th>\n",
       "      <td>This is Crypto History (Ethereum to be precise...</td>\n",
       "      <td>7</td>\n",
       "      <td>tp9ha6</td>\n",
       "      <td>ethereum</td>\n",
       "      <td>https://forum.makerdao.com/t/mip6-huntingdon-v...</td>\n",
       "      <td>4</td>\n",
       "      <td></td>\n",
       "      <td>1.648344e+09</td>\n",
       "    </tr>\n",
       "  </tbody>\n",
       "</table>\n",
       "</div>"
      ],
      "text/plain": [
       "                                                title  score      id  \\\n",
       "37               Artificial price inflation question.     23  toeaum   \n",
       "45                                             Paypal     31  tok1pc   \n",
       "54  Just a reminder: If Bitcoin is widely adopted,...   1779  tp1ep3   \n",
       "46                                 Talking About Sats     21  tp6gxb   \n",
       "35  This is Crypto History (Ethereum to be precise...      7  tp9ha6   \n",
       "\n",
       "           subreddit                                                url  \\\n",
       "37  BitcoinBeginners  https://www.reddit.com/r/BitcoinBeginners/comm...   \n",
       "45  BitcoinBeginners  https://www.reddit.com/r/BitcoinBeginners/comm...   \n",
       "54           Bitcoin                    https://v.redd.it/nkti6c3d7sp81   \n",
       "46  BitcoinBeginners  https://www.reddit.com/r/BitcoinBeginners/comm...   \n",
       "35          ethereum  https://forum.makerdao.com/t/mip6-huntingdon-v...   \n",
       "\n",
       "    num_comments                                               body  \\\n",
       "37            66  I was chatting with a friend of mines father w...   \n",
       "45            49  is just me or does buying bitcoin with PayPal,...   \n",
       "54           465                                                      \n",
       "46            41  How are we actually supposed to talk about sat...   \n",
       "35             4                                                      \n",
       "\n",
       "         created  \n",
       "37  1.648261e+09  \n",
       "45  1.648283e+09  \n",
       "54  1.648324e+09  \n",
       "46  1.648335e+09  \n",
       "35  1.648344e+09  "
      ]
     },
     "execution_count": 75,
     "metadata": {},
     "output_type": "execute_result"
    }
   ],
   "source": [
    "posts = []\n",
    "crypto_subs = reddit.subreddit('Bitcoin+CryptoCurrency+Coinbase+BitcoinBeginners+Ethereum')\n",
    "\n",
    "for i in range(1000):\n",
    "    post = crypto_subs.random()\n",
    "    posts.append(\n",
    "        [post.title, post.score, post.id, post.subreddit, post.url, post.num_comments, post.selftext, post.created]\n",
    "    )\n",
    "    \n",
    "\n",
    "posts = pd.DataFrame(\n",
    "    posts,columns=['title', 'score', 'id', 'subreddit', 'url', 'num_comments', 'body', 'created']\n",
    ").sort_values('created')\n",
    "posts.head()"
   ]
  },
  {
   "cell_type": "code",
   "execution_count": null,
   "metadata": {},
   "outputs": [],
   "source": []
  }
 ],
 "metadata": {
  "kernelspec": {
   "display_name": "Python 3",
   "language": "python",
   "name": "python3"
  },
  "language_info": {
   "codemirror_mode": {
    "name": "ipython",
    "version": 3
   },
   "file_extension": ".py",
   "mimetype": "text/x-python",
   "name": "python",
   "nbconvert_exporter": "python",
   "pygments_lexer": "ipython3",
   "version": "3.6.5"
  }
 },
 "nbformat": 4,
 "nbformat_minor": 2
}
