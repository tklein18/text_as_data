{
 "cells": [
  {
   "cell_type": "code",
   "execution_count": 144,
   "metadata": {},
   "outputs": [],
   "source": [
    "import praw\n",
    "import pandas as pd\n",
    "from datetime import datetime\n",
    "import time"
   ]
  },
  {
   "cell_type": "markdown",
   "metadata": {},
   "source": [
    "Loading my reddit info"
   ]
  },
  {
   "cell_type": "code",
   "execution_count": 4,
   "metadata": {},
   "outputs": [],
   "source": [
    "reddit = praw.Reddit(\n",
    "    client_id='C0hV0oPDS4zxHVqzEhcUVw',\n",
    "    client_secret='8Z_rDlP554yqq8UYKjH2SVW6JOoaYg',\n",
    "    user_agent='Prestigious-Wing-432'\n",
    ")"
   ]
  },
  {
   "cell_type": "markdown",
   "metadata": {},
   "source": [
    "Reading in random reddit posts - will use this as the base of my data. Doing random posts from these subreddits, rather than hot or new, because those have strict 1000 post limits. I want to get a random sample of probably more than a 1000 posts. "
   ]
  },
  {
   "cell_type": "code",
   "execution_count": 108,
   "metadata": {},
   "outputs": [
    {
     "data": {
      "text/html": [
       "<div>\n",
       "<style scoped>\n",
       "    .dataframe tbody tr th:only-of-type {\n",
       "        vertical-align: middle;\n",
       "    }\n",
       "\n",
       "    .dataframe tbody tr th {\n",
       "        vertical-align: top;\n",
       "    }\n",
       "\n",
       "    .dataframe thead th {\n",
       "        text-align: right;\n",
       "    }\n",
       "</style>\n",
       "<table border=\"1\" class=\"dataframe\">\n",
       "  <thead>\n",
       "    <tr style=\"text-align: right;\">\n",
       "      <th></th>\n",
       "      <th>title</th>\n",
       "      <th>score</th>\n",
       "      <th>id</th>\n",
       "      <th>subreddit</th>\n",
       "      <th>url</th>\n",
       "      <th>num_comments</th>\n",
       "      <th>body</th>\n",
       "      <th>created</th>\n",
       "    </tr>\n",
       "  </thead>\n",
       "  <tbody>\n",
       "    <tr>\n",
       "      <th>475</th>\n",
       "      <td>Paypal</td>\n",
       "      <td>33</td>\n",
       "      <td>tok1pc</td>\n",
       "      <td>BitcoinBeginners</td>\n",
       "      <td>https://www.reddit.com/r/BitcoinBeginners/comm...</td>\n",
       "      <td>49</td>\n",
       "      <td>is just me or does buying bitcoin with PayPal,...</td>\n",
       "      <td>1.648283e+09</td>\n",
       "    </tr>\n",
       "    <tr>\n",
       "      <th>724</th>\n",
       "      <td>Yes I am in it for the money and I don't care ...</td>\n",
       "      <td>4845</td>\n",
       "      <td>tokbqf</td>\n",
       "      <td>CryptoCurrency</td>\n",
       "      <td>https://www.reddit.com/r/CryptoCurrency/commen...</td>\n",
       "      <td>1067</td>\n",
       "      <td>I've seen some discussion on this sub recently...</td>\n",
       "      <td>1.648284e+09</td>\n",
       "    </tr>\n",
       "    <tr>\n",
       "      <th>665</th>\n",
       "      <td>Yes I am in it for the money and I don't care ...</td>\n",
       "      <td>4851</td>\n",
       "      <td>tokbqf</td>\n",
       "      <td>CryptoCurrency</td>\n",
       "      <td>https://www.reddit.com/r/CryptoCurrency/commen...</td>\n",
       "      <td>1067</td>\n",
       "      <td>I've seen some discussion on this sub recently...</td>\n",
       "      <td>1.648284e+09</td>\n",
       "    </tr>\n",
       "    <tr>\n",
       "      <th>977</th>\n",
       "      <td>Yes I am in it for the money and I don't care ...</td>\n",
       "      <td>4848</td>\n",
       "      <td>tokbqf</td>\n",
       "      <td>CryptoCurrency</td>\n",
       "      <td>https://www.reddit.com/r/CryptoCurrency/commen...</td>\n",
       "      <td>1067</td>\n",
       "      <td>I've seen some discussion on this sub recently...</td>\n",
       "      <td>1.648284e+09</td>\n",
       "    </tr>\n",
       "    <tr>\n",
       "      <th>970</th>\n",
       "      <td>The world's largest hedge fund Bridgewater Ass...</td>\n",
       "      <td>200</td>\n",
       "      <td>tolrhx</td>\n",
       "      <td>ethereum</td>\n",
       "      <td>https://blockbulletin.com/news/markets/the-wor...</td>\n",
       "      <td>31</td>\n",
       "      <td></td>\n",
       "      <td>1.648291e+09</td>\n",
       "    </tr>\n",
       "  </tbody>\n",
       "</table>\n",
       "</div>"
      ],
      "text/plain": [
       "                                                 title  score      id  \\\n",
       "475                                             Paypal     33  tok1pc   \n",
       "724  Yes I am in it for the money and I don't care ...   4845  tokbqf   \n",
       "665  Yes I am in it for the money and I don't care ...   4851  tokbqf   \n",
       "977  Yes I am in it for the money and I don't care ...   4848  tokbqf   \n",
       "970  The world's largest hedge fund Bridgewater Ass...    200  tolrhx   \n",
       "\n",
       "            subreddit                                                url  \\\n",
       "475  BitcoinBeginners  https://www.reddit.com/r/BitcoinBeginners/comm...   \n",
       "724    CryptoCurrency  https://www.reddit.com/r/CryptoCurrency/commen...   \n",
       "665    CryptoCurrency  https://www.reddit.com/r/CryptoCurrency/commen...   \n",
       "977    CryptoCurrency  https://www.reddit.com/r/CryptoCurrency/commen...   \n",
       "970          ethereum  https://blockbulletin.com/news/markets/the-wor...   \n",
       "\n",
       "     num_comments                                               body  \\\n",
       "475            49  is just me or does buying bitcoin with PayPal,...   \n",
       "724          1067  I've seen some discussion on this sub recently...   \n",
       "665          1067  I've seen some discussion on this sub recently...   \n",
       "977          1067  I've seen some discussion on this sub recently...   \n",
       "970            31                                                      \n",
       "\n",
       "          created  \n",
       "475  1.648283e+09  \n",
       "724  1.648284e+09  \n",
       "665  1.648284e+09  \n",
       "977  1.648284e+09  \n",
       "970  1.648291e+09  "
      ]
     },
     "execution_count": 108,
     "metadata": {},
     "output_type": "execute_result"
    }
   ],
   "source": [
    "posts = []\n",
    "crypto_subs = reddit.subreddit('Bitcoin+CryptoCurrency+Coinbase+BitcoinBeginners+Ethereum')\n",
    "\n",
    "for i in range(1000):\n",
    "    post = crypto_subs.random()\n",
    "    posts.append(\n",
    "        [post.title, post.score, post.id, post.subreddit, post.url, post.num_comments, post.selftext, post.created]\n",
    "    )\n",
    "    \n",
    "\n",
    "posts = pd.DataFrame(\n",
    "    posts,columns=['title', 'score', 'id', 'subreddit', 'url', 'num_comments', 'body', 'created']\n",
    ").sort_values('created')\n",
    "posts.head()"
   ]
  },
  {
   "cell_type": "code",
   "execution_count": 109,
   "metadata": {},
   "outputs": [],
   "source": [
    "current_time = datetime.now().strftime('%Y_%m_%d_%H_%M_%S')\n",
    "csv_path = \"random_crypto_posts_\" + current_time + \".csv\"\n",
    "posts.to_csv(path_or_buf = csv_path)"
   ]
  },
  {
   "cell_type": "code",
   "execution_count": 110,
   "metadata": {},
   "outputs": [
    {
     "data": {
      "text/plain": [
       "(243, 3)"
      ]
     },
     "execution_count": 110,
     "metadata": {},
     "output_type": "execute_result"
    }
   ],
   "source": [
    "posts.groupby('id').sum().shape"
   ]
  },
  {
   "cell_type": "code",
   "execution_count": 106,
   "metadata": {},
   "outputs": [],
   "source": [
    "test = posts"
   ]
  },
  {
   "cell_type": "code",
   "execution_count": 107,
   "metadata": {},
   "outputs": [
    {
     "data": {
      "text/plain": [
       "(239, 3)"
      ]
     },
     "execution_count": 107,
     "metadata": {},
     "output_type": "execute_result"
    }
   ],
   "source": [
    "test.groupby('id').sum().shape"
   ]
  },
  {
   "cell_type": "code",
   "execution_count": 111,
   "metadata": {},
   "outputs": [
    {
     "name": "stdout",
     "output_type": "stream",
     "text": [
      "Getting Random Crypto Posts.ipynb\r\n",
      "random_crypto_posts_2022_03_27_13_44_30.csv\r\n",
      "random_crypto_posts_2022_03_27_14_48_17.csv\r\n",
      "random_crypto_posts_2022_03_27_16_28_19.csv\r\n"
     ]
    }
   ],
   "source": [
    "ls"
   ]
  },
  {
   "cell_type": "code",
   "execution_count": 112,
   "metadata": {},
   "outputs": [],
   "source": [
    "df1 = pd.read_csv('random_crypto_posts_2022_03_27_13_44_30.csv')\n",
    "df2 = pd.read_csv('random_crypto_posts_2022_03_27_14_48_17.csv')\n",
    "df3 = pd.read_csv('random_crypto_posts_2022_03_27_16_28_19.csv')"
   ]
  },
  {
   "cell_type": "code",
   "execution_count": 128,
   "metadata": {},
   "outputs": [],
   "source": [
    "test_df = pd.concat([df1, df2, df3], axis=0, ignore_index=True)"
   ]
  },
  {
   "cell_type": "code",
   "execution_count": 132,
   "metadata": {},
   "outputs": [
    {
     "data": {
      "text/plain": [
       "(278, 4)"
      ]
     },
     "execution_count": 132,
     "metadata": {},
     "output_type": "execute_result"
    }
   ],
   "source": [
    "test_df.groupby('id').sum().shape"
   ]
  },
  {
   "cell_type": "code",
   "execution_count": 122,
   "metadata": {},
   "outputs": [
    {
     "data": {
      "text/plain": [
       "(1000, 9)"
      ]
     },
     "execution_count": 122,
     "metadata": {},
     "output_type": "execute_result"
    }
   ],
   "source": [
    "test_df.shape\n",
    "df1.shape\n",
    "df2.shape\n",
    "df3.shape"
   ]
  },
  {
   "cell_type": "code",
   "execution_count": 131,
   "metadata": {},
   "outputs": [
    {
     "data": {
      "text/html": [
       "<div>\n",
       "<style scoped>\n",
       "    .dataframe tbody tr th:only-of-type {\n",
       "        vertical-align: middle;\n",
       "    }\n",
       "\n",
       "    .dataframe tbody tr th {\n",
       "        vertical-align: top;\n",
       "    }\n",
       "\n",
       "    .dataframe thead th {\n",
       "        text-align: right;\n",
       "    }\n",
       "</style>\n",
       "<table border=\"1\" class=\"dataframe\">\n",
       "  <thead>\n",
       "    <tr style=\"text-align: right;\">\n",
       "      <th></th>\n",
       "      <th>Unnamed: 0</th>\n",
       "      <th>title</th>\n",
       "      <th>score</th>\n",
       "      <th>id</th>\n",
       "      <th>subreddit</th>\n",
       "      <th>url</th>\n",
       "      <th>num_comments</th>\n",
       "      <th>body</th>\n",
       "      <th>created</th>\n",
       "    </tr>\n",
       "  </thead>\n",
       "  <tbody>\n",
       "    <tr>\n",
       "      <th>0</th>\n",
       "      <td>37</td>\n",
       "      <td>Artificial price inflation question.</td>\n",
       "      <td>23</td>\n",
       "      <td>toeaum</td>\n",
       "      <td>BitcoinBeginners</td>\n",
       "      <td>https://www.reddit.com/r/BitcoinBeginners/comm...</td>\n",
       "      <td>66</td>\n",
       "      <td>I was chatting with a friend of mines father w...</td>\n",
       "      <td>1.648261e+09</td>\n",
       "    </tr>\n",
       "    <tr>\n",
       "      <th>1</th>\n",
       "      <td>45</td>\n",
       "      <td>Paypal</td>\n",
       "      <td>31</td>\n",
       "      <td>tok1pc</td>\n",
       "      <td>BitcoinBeginners</td>\n",
       "      <td>https://www.reddit.com/r/BitcoinBeginners/comm...</td>\n",
       "      <td>49</td>\n",
       "      <td>is just me or does buying bitcoin with PayPal,...</td>\n",
       "      <td>1.648283e+09</td>\n",
       "    </tr>\n",
       "    <tr>\n",
       "      <th>2</th>\n",
       "      <td>54</td>\n",
       "      <td>Just a reminder: If Bitcoin is widely adopted,...</td>\n",
       "      <td>1779</td>\n",
       "      <td>tp1ep3</td>\n",
       "      <td>Bitcoin</td>\n",
       "      <td>https://v.redd.it/nkti6c3d7sp81</td>\n",
       "      <td>465</td>\n",
       "      <td>NaN</td>\n",
       "      <td>1.648324e+09</td>\n",
       "    </tr>\n",
       "    <tr>\n",
       "      <th>3</th>\n",
       "      <td>46</td>\n",
       "      <td>Talking About Sats</td>\n",
       "      <td>21</td>\n",
       "      <td>tp6gxb</td>\n",
       "      <td>BitcoinBeginners</td>\n",
       "      <td>https://www.reddit.com/r/BitcoinBeginners/comm...</td>\n",
       "      <td>41</td>\n",
       "      <td>How are we actually supposed to talk about sat...</td>\n",
       "      <td>1.648335e+09</td>\n",
       "    </tr>\n",
       "    <tr>\n",
       "      <th>4</th>\n",
       "      <td>35</td>\n",
       "      <td>This is Crypto History (Ethereum to be precise...</td>\n",
       "      <td>7</td>\n",
       "      <td>tp9ha6</td>\n",
       "      <td>ethereum</td>\n",
       "      <td>https://forum.makerdao.com/t/mip6-huntingdon-v...</td>\n",
       "      <td>4</td>\n",
       "      <td>NaN</td>\n",
       "      <td>1.648344e+09</td>\n",
       "    </tr>\n",
       "  </tbody>\n",
       "</table>\n",
       "</div>"
      ],
      "text/plain": [
       "   Unnamed: 0                                              title  score  \\\n",
       "0          37               Artificial price inflation question.     23   \n",
       "1          45                                             Paypal     31   \n",
       "2          54  Just a reminder: If Bitcoin is widely adopted,...   1779   \n",
       "3          46                                 Talking About Sats     21   \n",
       "4          35  This is Crypto History (Ethereum to be precise...      7   \n",
       "\n",
       "       id         subreddit  \\\n",
       "0  toeaum  BitcoinBeginners   \n",
       "1  tok1pc  BitcoinBeginners   \n",
       "2  tp1ep3           Bitcoin   \n",
       "3  tp6gxb  BitcoinBeginners   \n",
       "4  tp9ha6          ethereum   \n",
       "\n",
       "                                                 url  num_comments  \\\n",
       "0  https://www.reddit.com/r/BitcoinBeginners/comm...            66   \n",
       "1  https://www.reddit.com/r/BitcoinBeginners/comm...            49   \n",
       "2                    https://v.redd.it/nkti6c3d7sp81           465   \n",
       "3  https://www.reddit.com/r/BitcoinBeginners/comm...            41   \n",
       "4  https://forum.makerdao.com/t/mip6-huntingdon-v...             4   \n",
       "\n",
       "                                                body       created  \n",
       "0  I was chatting with a friend of mines father w...  1.648261e+09  \n",
       "1  is just me or does buying bitcoin with PayPal,...  1.648283e+09  \n",
       "2                                                NaN  1.648324e+09  \n",
       "3  How are we actually supposed to talk about sat...  1.648335e+09  \n",
       "4                                                NaN  1.648344e+09  "
      ]
     },
     "execution_count": 131,
     "metadata": {},
     "output_type": "execute_result"
    }
   ],
   "source": [
    "df1.head()"
   ]
  },
  {
   "cell_type": "code",
   "execution_count": 165,
   "metadata": {},
   "outputs": [
    {
     "data": {
      "text/plain": [
       "(552, 4)"
      ]
     },
     "execution_count": 165,
     "metadata": {},
     "output_type": "execute_result"
    }
   ],
   "source": [
    "pd.concat([df1,df2,df3,rp_df], axis = 0).groupby('id').sum().shape"
   ]
  },
  {
   "cell_type": "code",
   "execution_count": 160,
   "metadata": {},
   "outputs": [],
   "source": [
    "random_posts = []\n",
    "i = 0\n",
    "while i < 1000:\n",
    "    temp_post = crypto_subs.random()\n",
    "    random_posts.append(\n",
    "        [temp_post.title, temp_post.score, temp_post.id, temp_post.subreddit,\n",
    "         temp_post.url, temp_post.num_comments, temp_post.selftext, temp_post.created]\n",
    "    )\n",
    "    i = i + 1\n",
    "    time.sleep(1)"
   ]
  },
  {
   "cell_type": "code",
   "execution_count": 161,
   "metadata": {},
   "outputs": [
    {
     "data": {
      "text/html": [
       "<div>\n",
       "<style scoped>\n",
       "    .dataframe tbody tr th:only-of-type {\n",
       "        vertical-align: middle;\n",
       "    }\n",
       "\n",
       "    .dataframe tbody tr th {\n",
       "        vertical-align: top;\n",
       "    }\n",
       "\n",
       "    .dataframe thead th {\n",
       "        text-align: right;\n",
       "    }\n",
       "</style>\n",
       "<table border=\"1\" class=\"dataframe\">\n",
       "  <thead>\n",
       "    <tr style=\"text-align: right;\">\n",
       "      <th></th>\n",
       "      <th>title</th>\n",
       "      <th>score</th>\n",
       "      <th>id</th>\n",
       "      <th>subreddit</th>\n",
       "      <th>url</th>\n",
       "      <th>num_comments</th>\n",
       "      <th>body</th>\n",
       "      <th>created</th>\n",
       "    </tr>\n",
       "  </thead>\n",
       "  <tbody>\n",
       "    <tr>\n",
       "      <th>194</th>\n",
       "      <td>All the time</td>\n",
       "      <td>2166</td>\n",
       "      <td>tq7fw6</td>\n",
       "      <td>Bitcoin</td>\n",
       "      <td>https://i.redd.it/qmtko22744q81.jpg</td>\n",
       "      <td>121</td>\n",
       "      <td></td>\n",
       "      <td>1.648468e+09</td>\n",
       "    </tr>\n",
       "    <tr>\n",
       "      <th>471</th>\n",
       "      <td>All the time</td>\n",
       "      <td>2167</td>\n",
       "      <td>tq7fw6</td>\n",
       "      <td>Bitcoin</td>\n",
       "      <td>https://i.redd.it/qmtko22744q81.jpg</td>\n",
       "      <td>121</td>\n",
       "      <td></td>\n",
       "      <td>1.648468e+09</td>\n",
       "    </tr>\n",
       "    <tr>\n",
       "      <th>694</th>\n",
       "      <td>Biden Administration to release 2023 budget to...</td>\n",
       "      <td>21138</td>\n",
       "      <td>tqa89o</td>\n",
       "      <td>CryptoCurrency</td>\n",
       "      <td>https://finbold.com/biden-administration-to-of...</td>\n",
       "      <td>2294</td>\n",
       "      <td></td>\n",
       "      <td>1.648477e+09</td>\n",
       "    </tr>\n",
       "    <tr>\n",
       "      <th>304</th>\n",
       "      <td>Biden Administration to release 2023 budget to...</td>\n",
       "      <td>21129</td>\n",
       "      <td>tqa89o</td>\n",
       "      <td>CryptoCurrency</td>\n",
       "      <td>https://finbold.com/biden-administration-to-of...</td>\n",
       "      <td>2292</td>\n",
       "      <td></td>\n",
       "      <td>1.648477e+09</td>\n",
       "    </tr>\n",
       "    <tr>\n",
       "      <th>517</th>\n",
       "      <td>where is he????</td>\n",
       "      <td>806</td>\n",
       "      <td>tqcano</td>\n",
       "      <td>Bitcoin</td>\n",
       "      <td>https://i.redd.it/e2hb8sabb5q81.jpg</td>\n",
       "      <td>86</td>\n",
       "      <td></td>\n",
       "      <td>1.648483e+09</td>\n",
       "    </tr>\n",
       "  </tbody>\n",
       "</table>\n",
       "</div>"
      ],
      "text/plain": [
       "                                                 title  score      id  \\\n",
       "194                                       All the time   2166  tq7fw6   \n",
       "471                                       All the time   2167  tq7fw6   \n",
       "694  Biden Administration to release 2023 budget to...  21138  tqa89o   \n",
       "304  Biden Administration to release 2023 budget to...  21129  tqa89o   \n",
       "517                                    where is he????    806  tqcano   \n",
       "\n",
       "          subreddit                                                url  \\\n",
       "194         Bitcoin                https://i.redd.it/qmtko22744q81.jpg   \n",
       "471         Bitcoin                https://i.redd.it/qmtko22744q81.jpg   \n",
       "694  CryptoCurrency  https://finbold.com/biden-administration-to-of...   \n",
       "304  CryptoCurrency  https://finbold.com/biden-administration-to-of...   \n",
       "517         Bitcoin                https://i.redd.it/e2hb8sabb5q81.jpg   \n",
       "\n",
       "     num_comments body       created  \n",
       "194           121       1.648468e+09  \n",
       "471           121       1.648468e+09  \n",
       "694          2294       1.648477e+09  \n",
       "304          2292       1.648477e+09  \n",
       "517            86       1.648483e+09  "
      ]
     },
     "execution_count": 161,
     "metadata": {},
     "output_type": "execute_result"
    }
   ],
   "source": [
    "rp_df = pd.DataFrame(\n",
    "    random_posts,columns=['title', 'score', 'id', 'subreddit', 'url', 'num_comments', 'body', 'created']\n",
    ").sort_values('created')\n",
    "rp_df.head()"
   ]
  },
  {
   "cell_type": "code",
   "execution_count": 162,
   "metadata": {},
   "outputs": [
    {
     "data": {
      "text/plain": [
       "(274, 3)"
      ]
     },
     "execution_count": 162,
     "metadata": {},
     "output_type": "execute_result"
    }
   ],
   "source": [
    "rp_df.groupby('id').sum().shape"
   ]
  },
  {
   "cell_type": "code",
   "execution_count": 168,
   "metadata": {},
   "outputs": [],
   "source": [
    "crypto_subs = reddit.subreddit('Bitcoin+CryptoCurrency+Coinbase+BitcoinBeginners+Ethereum')\n",
    "hot_posts = crypto_subs.hot(limit = None)"
   ]
  },
  {
   "cell_type": "code",
   "execution_count": 169,
   "metadata": {},
   "outputs": [],
   "source": [
    "posts = []\n",
    "for post in hot_posts:\n",
    "    posts.append([post.title, post.score, post.id, post.subreddit, post.url, post.num_comments, post.selftext, post.created])\n",
    "posts = pd.DataFrame(posts,columns=['title', 'score', 'id', 'subreddit', 'url', 'num_comments', 'body', 'created'])"
   ]
  },
  {
   "cell_type": "code",
   "execution_count": 170,
   "metadata": {},
   "outputs": [
    {
     "data": {
      "text/plain": [
       "(539, 8)"
      ]
     },
     "execution_count": 170,
     "metadata": {},
     "output_type": "execute_result"
    }
   ],
   "source": [
    "posts.shape"
   ]
  },
  {
   "cell_type": "code",
   "execution_count": null,
   "metadata": {},
   "outputs": [],
   "source": []
  }
 ],
 "metadata": {
  "kernelspec": {
   "display_name": "Python 3",
   "language": "python",
   "name": "python3"
  },
  "language_info": {
   "codemirror_mode": {
    "name": "ipython",
    "version": 3
   },
   "file_extension": ".py",
   "mimetype": "text/x-python",
   "name": "python",
   "nbconvert_exporter": "python",
   "pygments_lexer": "ipython3",
   "version": "3.6.5"
  }
 },
 "nbformat": 4,
 "nbformat_minor": 2
}
