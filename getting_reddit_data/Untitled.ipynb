{
 "cells": [
  {
   "cell_type": "code",
   "execution_count": 1,
   "metadata": {},
   "outputs": [],
   "source": [
    "import requests\n",
    "import pandas as pd\n",
    "from datetime import datetime"
   ]
  },
  {
   "cell_type": "code",
   "execution_count": 2,
   "metadata": {},
   "outputs": [],
   "source": [
    "# we use this function to convert responses to dataframes\n",
    "def df_from_response(res):\n",
    "    # initialize temp dataframe for batch of data in response\n",
    "    df = pd.DataFrame()\n",
    "\n",
    "    # loop through each post pulled from res and append to df\n",
    "    for post in res.json()['data']['children']:\n",
    "        df = df.append({\n",
    "            'subreddit': post['data']['subreddit'],\n",
    "            'title': post['data']['title'],\n",
    "            'selftext': post['data']['selftext'],\n",
    "            'upvote_ratio': post['data']['upvote_ratio'],\n",
    "            'ups': post['data']['ups'],\n",
    "            'downs': post['data']['downs'],\n",
    "            'score': post['data']['score'],\n",
    "            'link_flair_css_class': post['data']['link_flair_css_class'],\n",
    "            'created_utc': datetime.fromtimestamp(post['data']['created_utc']).strftime('%Y-%m-%dT%H:%M:%SZ'),\n",
    "            'id': post['data']['id'],\n",
    "            'kind': post['kind']\n",
    "        }, ignore_index=True)\n",
    "\n",
    "    return df\n"
   ]
  },
  {
   "cell_type": "code",
   "execution_count": 4,
   "metadata": {},
   "outputs": [],
   "source": [
    "# authenticate API\n",
    "client_auth = requests.auth.HTTPBasicAuth('C0hV0oPDS4zxHVqzEhcUVw', '8Z_rDlP554yqq8UYKjH2SVW6JOoaYg')\n",
    "data = {\n",
    "    'grant_type': 'password',\n",
    "    'username': 'paysthebills',\n",
    "    'password': 'f89eoufX!@#'\n",
    "}\n",
    "headers = {'User-Agent': 'text as data/0.0.1'}\n",
    "\n",
    "# send authentication request for OAuth token\n",
    "res = requests.post('https://www.reddit.com/api/v1/access_token',\n",
    "                    auth=client_auth, data=data, headers=headers)\n",
    "\n",
    "# extract token from response and format correctly\n",
    "TOKEN = f\"bearer {res.json()['access_token']}\"\n",
    "# update API headers with authorization (bearer token)\n",
    "headers = {**headers, **{'Authorization': TOKEN}}"
   ]
  },
  {
   "cell_type": "code",
   "execution_count": 14,
   "metadata": {},
   "outputs": [],
   "source": [
    "# initialize dataframe and parameters for pulling data in loop\n",
    "data = pd.DataFrame()\n",
    "params = {'limit': 100}\n",
    "\n",
    "\n",
    "# loop through 10 times (returning 1K posts)\n",
    "for i in range(10):\n",
    "    # make request\n",
    "    res = requests.get(\"https://oauth.reddit.com/r/Bitcoin/hot\",\n",
    "                       headers=headers,\n",
    "                       params=params)\n",
    "\n",
    "    # get dataframe from response\n",
    "    new_df = df_from_response(res)\n",
    "    \n",
    "    if new_df.shape[0] > 0:\n",
    "        \n",
    "        # take the final row (oldest entry)\n",
    "        row = new_df.iloc[len(new_df)-1]\n",
    "        # create fullname\n",
    "        fullname = row['kind'] + '_' + row['id']\n",
    "        # add/update fullname in params\n",
    "        params['after'] = fullname\n",
    "        \n",
    "        # append new_df to data\n",
    "        data = data.append(new_df, ignore_index=True)"
   ]
  },
  {
   "cell_type": "code",
   "execution_count": 15,
   "metadata": {},
   "outputs": [
    {
     "data": {
      "text/plain": [
       "(784, 11)"
      ]
     },
     "execution_count": 15,
     "metadata": {},
     "output_type": "execute_result"
    }
   ],
   "source": [
    "data.shape"
   ]
  },
  {
   "cell_type": "code",
   "execution_count": null,
   "metadata": {},
   "outputs": [],
   "source": []
  }
 ],
 "metadata": {
  "kernelspec": {
   "display_name": "Python 3",
   "language": "python",
   "name": "python3"
  },
  "language_info": {
   "codemirror_mode": {
    "name": "ipython",
    "version": 3
   },
   "file_extension": ".py",
   "mimetype": "text/x-python",
   "name": "python",
   "nbconvert_exporter": "python",
   "pygments_lexer": "ipython3",
   "version": "3.6.5"
  }
 },
 "nbformat": 4,
 "nbformat_minor": 2
}
