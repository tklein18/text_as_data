{
 "cells": [
  {
   "cell_type": "code",
   "execution_count": 1,
   "metadata": {},
   "outputs": [],
   "source": [
    "import requests\n",
    "import pandas as pd\n",
    "from datetime import datetime\n",
    "import praw\n",
    "import psaw"
   ]
  },
  {
   "cell_type": "code",
   "execution_count": 3,
   "metadata": {},
   "outputs": [],
   "source": [
    "r = praw.Reddit(\n",
    "    client_id='C0hV0oPDS4zxHVqzEhcUVw',\n",
    "    client_secret='8Z_rDlP554yqq8UYKjH2SVW6JOoaYg',\n",
    "    user_agent='Prestigious-Wing-432'\n",
    ")\n",
    "api = psaw.PushshiftAPI()"
   ]
  },
  {
   "cell_type": "code",
   "execution_count": 4,
   "metadata": {},
   "outputs": [
    {
     "name": "stderr",
     "output_type": "stream",
     "text": [
      "/Users/tklein/anaconda3/lib/python3.6/site-packages/psaw/PushshiftAPI.py:252: UserWarning: Not all PushShift shards are active. Query results may be incomplete\n",
      "  warnings.warn(shards_down_message)\n"
     ]
    }
   ],
   "source": [
    "bc_posts = list(api.search_submissions(subreddit='Bitcoin',\n",
    "                            limit=5000))"
   ]
  },
  {
   "cell_type": "code",
   "execution_count": 5,
   "metadata": {},
   "outputs": [
    {
     "name": "stderr",
     "output_type": "stream",
     "text": [
      "/Users/tklein/anaconda3/lib/python3.6/site-packages/psaw/PushshiftAPI.py:252: UserWarning: Not all PushShift shards are active. Query results may be incomplete\n",
      "  warnings.warn(shards_down_message)\n"
     ]
    }
   ],
   "source": [
    "eth_posts = list(api.search_submissions(subreddit='Ethereum',\n",
    "                            limit=5000))"
   ]
  },
  {
   "cell_type": "code",
   "execution_count": 6,
   "metadata": {},
   "outputs": [
    {
     "name": "stderr",
     "output_type": "stream",
     "text": [
      "/Users/tklein/anaconda3/lib/python3.6/site-packages/psaw/PushshiftAPI.py:252: UserWarning: Not all PushShift shards are active. Query results may be incomplete\n",
      "  warnings.warn(shards_down_message)\n"
     ]
    }
   ],
   "source": [
    "cc_posts = list(api.search_submissions(subreddit='CryptoCurrency',\n",
    "                            limit=5000))"
   ]
  },
  {
   "cell_type": "code",
   "execution_count": 7,
   "metadata": {},
   "outputs": [
    {
     "name": "stderr",
     "output_type": "stream",
     "text": [
      "/Users/tklein/anaconda3/lib/python3.6/site-packages/psaw/PushshiftAPI.py:252: UserWarning: Not all PushShift shards are active. Query results may be incomplete\n",
      "  warnings.warn(shards_down_message)\n"
     ]
    }
   ],
   "source": [
    "cb_posts = list(api.search_submissions(subreddit='Coinbase',\n",
    "                            limit=5000))"
   ]
  },
  {
   "cell_type": "code",
   "execution_count": 8,
   "metadata": {},
   "outputs": [
    {
     "name": "stderr",
     "output_type": "stream",
     "text": [
      "/Users/tklein/anaconda3/lib/python3.6/site-packages/psaw/PushshiftAPI.py:252: UserWarning: Not all PushShift shards are active. Query results may be incomplete\n",
      "  warnings.warn(shards_down_message)\n"
     ]
    }
   ],
   "source": [
    "bb_posts = list(api.search_submissions(subreddit='BitcoinBeginners',\n",
    "                            limit=5000))"
   ]
  },
  {
   "cell_type": "code",
   "execution_count": 9,
   "metadata": {},
   "outputs": [
    {
     "name": "stdout",
     "output_type": "stream",
     "text": [
      "skipped  56\n",
      "skipped  105\n",
      "skipped  135\n",
      "skipped  156\n",
      "skipped  159\n",
      "skipped  847\n",
      "skipped  3012\n",
      "skipped  3439\n",
      "skipped  4652\n",
      "skipped  4975\n",
      "skipped  48\n",
      "skipped  498\n",
      "skipped  499\n",
      "skipped  742\n",
      "skipped  743\n",
      "skipped  1210\n",
      "skipped  1448\n",
      "skipped  2901\n",
      "skipped  3544\n",
      "skipped  99\n",
      "skipped  102\n",
      "skipped  104\n",
      "skipped  110\n",
      "skipped  112\n",
      "skipped  120\n",
      "skipped  126\n",
      "skipped  185\n",
      "skipped  192\n",
      "skipped  196\n",
      "skipped  202\n",
      "skipped  205\n",
      "skipped  233\n",
      "skipped  255\n",
      "skipped  266\n",
      "skipped  271\n",
      "skipped  292\n",
      "skipped  333\n",
      "skipped  362\n",
      "skipped  373\n",
      "skipped  382\n",
      "skipped  389\n",
      "skipped  400\n",
      "skipped  409\n",
      "skipped  452\n",
      "skipped  481\n",
      "skipped  488\n",
      "skipped  490\n",
      "skipped  501\n",
      "skipped  503\n",
      "skipped  509\n",
      "skipped  513\n",
      "skipped  514\n",
      "skipped  516\n",
      "skipped  530\n",
      "skipped  539\n",
      "skipped  547\n",
      "skipped  557\n",
      "skipped  573\n",
      "skipped  575\n",
      "skipped  581\n",
      "skipped  600\n",
      "skipped  602\n",
      "skipped  606\n",
      "skipped  838\n",
      "skipped  3983\n",
      "skipped  4545\n",
      "skipped  17\n",
      "skipped  31\n",
      "skipped  48\n",
      "skipped  49\n",
      "skipped  50\n",
      "skipped  61\n",
      "skipped  65\n",
      "skipped  1148\n",
      "skipped  1168\n",
      "skipped  12\n",
      "skipped  26\n",
      "skipped  259\n",
      "skipped  626\n",
      "skipped  868\n",
      "skipped  892\n",
      "skipped  1393\n",
      "skipped  1432\n",
      "skipped  1765\n",
      "skipped  2221\n",
      "skipped  2806\n",
      "skipped  2986\n",
      "skipped  4006\n",
      "skipped  4882\n",
      "skipped  4912\n"
     ]
    }
   ],
   "source": [
    "posts = []\n",
    "for i in range(len(bc_posts)):\n",
    "    \n",
    "    try:\n",
    "        posts.append(\n",
    "            [\n",
    "                bc_posts[i].title, bc_posts[i].score, bc_posts[i].id,\n",
    "                bc_posts[i].subreddit, bc_posts[i].url, bc_posts[i].num_comments,\n",
    "                bc_posts[i].selftext, bc_posts[i].created\n",
    "            ]\n",
    "        )\n",
    "    except:\n",
    "        print('skipped ', i)\n",
    "    \n",
    "\n",
    "    \n",
    "    \n",
    "for i in range(len(eth_posts)):\n",
    "    \n",
    "    try:\n",
    "        posts.append(\n",
    "            [\n",
    "                eth_posts[i].title, eth_posts[i].score, eth_posts[i].id,\n",
    "                eth_posts[i].subreddit, eth_posts[i].url, eth_posts[i].num_comments,\n",
    "                eth_posts[i].selftext, eth_posts[i].created\n",
    "            ]\n",
    "        )\n",
    "    except:\n",
    "        print('skipped ', i)\n",
    "        \n",
    "\n",
    "        \n",
    "for i in range(len(cc_posts)):\n",
    "    \n",
    "    try:\n",
    "        posts.append(\n",
    "            [\n",
    "                cc_posts[i].title, cc_posts[i].score, cc_posts[i].id,\n",
    "                cc_posts[i].subreddit, cc_posts[i].url, cc_posts[i].num_comments,\n",
    "                cc_posts[i].selftext, cc_posts[i].created\n",
    "            ]\n",
    "        )\n",
    "    except:\n",
    "        print('skipped ', i)\n",
    "        \n",
    "        \n",
    "        \n",
    "for i in range(len(cb_posts)):\n",
    "    \n",
    "    try:\n",
    "        posts.append(\n",
    "            [\n",
    "                cb_posts[i].title, cb_posts[i].score, cb_posts[i].id,\n",
    "                cb_posts[i].subreddit, cb_posts[i].url, cb_posts[i].num_comments,\n",
    "                cb_posts[i].selftext, cb_posts[i].created\n",
    "            ]\n",
    "        )\n",
    "    except:\n",
    "        print('skipped ', i)\n",
    "        \n",
    "        \n",
    "        \n",
    "for i in range(len(bb_posts)):\n",
    "    \n",
    "    try:\n",
    "        posts.append(\n",
    "            [\n",
    "                bb_posts[i].title, bb_posts[i].score, bb_posts[i].id,\n",
    "                bb_posts[i].subreddit, bb_posts[i].url, bb_posts[i].num_comments,\n",
    "                bb_posts[i].selftext, bb_posts[i].created\n",
    "            ]\n",
    "        )\n",
    "    except:\n",
    "        print('skipped ', i)\n",
    " \n",
    "    \n",
    "    \n",
    "    \n",
    "    \n"
   ]
  },
  {
   "cell_type": "code",
   "execution_count": 10,
   "metadata": {},
   "outputs": [],
   "source": [
    "posts = pd.DataFrame(\n",
    "       posts,\n",
    "       columns=[\n",
    "           'title', 'score', 'id',\n",
    "           'subreddit', 'url', 'num_comments',\n",
    "           'body', 'created'\n",
    "       ]\n",
    "   )"
   ]
  },
  {
   "cell_type": "code",
   "execution_count": 11,
   "metadata": {},
   "outputs": [
    {
     "data": {
      "text/plain": [
       "(24881, 8)"
      ]
     },
     "execution_count": 11,
     "metadata": {},
     "output_type": "execute_result"
    }
   ],
   "source": [
    "posts.shape"
   ]
  },
  {
   "cell_type": "code",
   "execution_count": 12,
   "metadata": {},
   "outputs": [
    {
     "data": {
      "text/plain": [
       "(24881, 3)"
      ]
     },
     "execution_count": 12,
     "metadata": {},
     "output_type": "execute_result"
    }
   ],
   "source": [
    "posts.groupby('id').sum().shape"
   ]
  },
  {
   "cell_type": "code",
   "execution_count": 13,
   "metadata": {},
   "outputs": [],
   "source": [
    "posts.to_csv(path_or_buf = 'psaw_crypto_posts.csv')"
   ]
  },
  {
   "cell_type": "code",
   "execution_count": 33,
   "metadata": {},
   "outputs": [],
   "source": [
    "posts_with_body = posts[posts.body != '']\n",
    "posts_with_body = posts_with_body.reset_index()"
   ]
  },
  {
   "cell_type": "code",
   "execution_count": 19,
   "metadata": {},
   "outputs": [],
   "source": [
    "posts_with_body.to_csv(path_or_buf = 'psaw_crypto_posts_with_body.csv')"
   ]
  },
  {
   "cell_type": "code",
   "execution_count": 37,
   "metadata": {},
   "outputs": [
    {
     "data": {
      "text/plain": [
       "458"
      ]
     },
     "execution_count": 37,
     "metadata": {},
     "output_type": "execute_result"
    }
   ],
   "source": [
    "posts.num_comments.max()"
   ]
  },
  {
   "cell_type": "code",
   "execution_count": 38,
   "metadata": {},
   "outputs": [
    {
     "data": {
      "text/plain": [
       "'I am new to BTC and want to learn more about proof of work. What makes proof of work more secure than proof of stake?'"
      ]
     },
     "execution_count": 38,
     "metadata": {},
     "output_type": "execute_result"
    }
   ],
   "source": [
    "r.submission(posts_with_body.id[0]).selftext"
   ]
  },
  {
   "cell_type": "code",
   "execution_count": 39,
   "metadata": {},
   "outputs": [
    {
     "data": {
      "text/html": [
       "<div>\n",
       "<style scoped>\n",
       "    .dataframe tbody tr th:only-of-type {\n",
       "        vertical-align: middle;\n",
       "    }\n",
       "\n",
       "    .dataframe tbody tr th {\n",
       "        vertical-align: top;\n",
       "    }\n",
       "\n",
       "    .dataframe thead th {\n",
       "        text-align: right;\n",
       "    }\n",
       "</style>\n",
       "<table border=\"1\" class=\"dataframe\">\n",
       "  <thead>\n",
       "    <tr style=\"text-align: right;\">\n",
       "      <th></th>\n",
       "      <th>title</th>\n",
       "      <th>score</th>\n",
       "      <th>id</th>\n",
       "      <th>subreddit</th>\n",
       "      <th>url</th>\n",
       "      <th>num_comments</th>\n",
       "      <th>body</th>\n",
       "      <th>created</th>\n",
       "    </tr>\n",
       "  </thead>\n",
       "  <tbody>\n",
       "    <tr>\n",
       "      <th>16273</th>\n",
       "      <td>Can I store my crypto in one wallet?</td>\n",
       "      <td>1</td>\n",
       "      <td>rga1y1</td>\n",
       "      <td>BitcoinBeginners</td>\n",
       "      <td>https://www.reddit.com/r/BitcoinBeginners/comm...</td>\n",
       "      <td>0</td>\n",
       "      <td>[removed]</td>\n",
       "      <td>1.639496e+09</td>\n",
       "    </tr>\n",
       "    <tr>\n",
       "      <th>16272</th>\n",
       "      <td>sign up and get 10 usdt bonus</td>\n",
       "      <td>1</td>\n",
       "      <td>rgb35r</td>\n",
       "      <td>BitcoinBeginners</td>\n",
       "      <td>https://www.reddit.com/r/BitcoinBeginners/comm...</td>\n",
       "      <td>0</td>\n",
       "      <td>[removed]</td>\n",
       "      <td>1.639499e+09</td>\n",
       "    </tr>\n",
       "    <tr>\n",
       "      <th>16271</th>\n",
       "      <td>Making Bitcoin Secure to Quantum attacks.</td>\n",
       "      <td>33</td>\n",
       "      <td>rgbudo</td>\n",
       "      <td>BitcoinBeginners</td>\n",
       "      <td>https://www.reddit.com/r/BitcoinBeginners/comm...</td>\n",
       "      <td>78</td>\n",
       "      <td>I read this article [https://www2.deloitte.com...</td>\n",
       "      <td>1.639501e+09</td>\n",
       "    </tr>\n",
       "    <tr>\n",
       "      <th>16270</th>\n",
       "      <td>First time purchase of crypto, advice</td>\n",
       "      <td>1</td>\n",
       "      <td>rgbv7q</td>\n",
       "      <td>BitcoinBeginners</td>\n",
       "      <td>https://www.reddit.com/r/BitcoinBeginners/comm...</td>\n",
       "      <td>0</td>\n",
       "      <td>[removed]</td>\n",
       "      <td>1.639501e+09</td>\n",
       "    </tr>\n",
       "    <tr>\n",
       "      <th>16269</th>\n",
       "      <td>First time pruchase help</td>\n",
       "      <td>1</td>\n",
       "      <td>rgbwmh</td>\n",
       "      <td>BitcoinBeginners</td>\n",
       "      <td>https://www.reddit.com/r/BitcoinBeginners/comm...</td>\n",
       "      <td>0</td>\n",
       "      <td>[removed]</td>\n",
       "      <td>1.639501e+09</td>\n",
       "    </tr>\n",
       "  </tbody>\n",
       "</table>\n",
       "</div>"
      ],
      "text/plain": [
       "                                           title  score      id  \\\n",
       "16273       Can I store my crypto in one wallet?      1  rga1y1   \n",
       "16272              sign up and get 10 usdt bonus      1  rgb35r   \n",
       "16271  Making Bitcoin Secure to Quantum attacks.     33  rgbudo   \n",
       "16270      First time purchase of crypto, advice      1  rgbv7q   \n",
       "16269                   First time pruchase help      1  rgbwmh   \n",
       "\n",
       "              subreddit                                                url  \\\n",
       "16273  BitcoinBeginners  https://www.reddit.com/r/BitcoinBeginners/comm...   \n",
       "16272  BitcoinBeginners  https://www.reddit.com/r/BitcoinBeginners/comm...   \n",
       "16271  BitcoinBeginners  https://www.reddit.com/r/BitcoinBeginners/comm...   \n",
       "16270  BitcoinBeginners  https://www.reddit.com/r/BitcoinBeginners/comm...   \n",
       "16269  BitcoinBeginners  https://www.reddit.com/r/BitcoinBeginners/comm...   \n",
       "\n",
       "       num_comments                                               body  \\\n",
       "16273             0                                          [removed]   \n",
       "16272             0                                          [removed]   \n",
       "16271            78  I read this article [https://www2.deloitte.com...   \n",
       "16270             0                                          [removed]   \n",
       "16269             0                                          [removed]   \n",
       "\n",
       "            created  \n",
       "16273  1.639496e+09  \n",
       "16272  1.639499e+09  \n",
       "16271  1.639501e+09  \n",
       "16270  1.639501e+09  \n",
       "16269  1.639501e+09  "
      ]
     },
     "execution_count": 39,
     "metadata": {},
     "output_type": "execute_result"
    }
   ],
   "source": [
    "updated_posts = []\n",
    "\n",
    "for i in range(posts_with_body.shape[0]):\n",
    "    post = r.submission(posts_with_body.id[i])\n",
    "    updated_posts.append(\n",
    "        [post.title, post.score, post.id, post.subreddit, post.url, post.num_comments, post.selftext, post.created]\n",
    "    )\n",
    "    \n",
    "\n",
    "updated_posts = pd.DataFrame(\n",
    "    updated_posts,columns=['title', 'score', 'id', 'subreddit', 'url', 'num_comments', 'body', 'created']\n",
    ").sort_values('created')\n",
    "updated_posts.head()"
   ]
  },
  {
   "cell_type": "code",
   "execution_count": 40,
   "metadata": {},
   "outputs": [
    {
     "data": {
      "text/plain": [
       "(16274, 8)"
      ]
     },
     "execution_count": 40,
     "metadata": {},
     "output_type": "execute_result"
    }
   ],
   "source": [
    "updated_posts.shape"
   ]
  },
  {
   "cell_type": "code",
   "execution_count": 44,
   "metadata": {},
   "outputs": [],
   "source": [
    "updated_posts.to_csv(path_or_buf = 'updated_crypto_posts.csv')"
   ]
  },
  {
   "cell_type": "code",
   "execution_count": 45,
   "metadata": {},
   "outputs": [
    {
     "name": "stdout",
     "output_type": "stream",
     "text": [
      "Getting Random Crypto Posts.ipynb\r\n",
      "Untitled.ipynb\r\n",
      "psaw reddit pull.ipynb\r\n",
      "random_crypto_posts_2022_03_27_13_44_30.csv\r\n",
      "random_crypto_posts_2022_03_27_14_48_17.csv\r\n",
      "random_crypto_posts_2022_03_27_16_28_19.csv\r\n",
      "updated_crypto_posts.csv\r\n"
     ]
    }
   ],
   "source": [
    "ls"
   ]
  },
  {
   "cell_type": "code",
   "execution_count": 46,
   "metadata": {},
   "outputs": [
    {
     "data": {
      "text/plain": [
       "(16274, 9)"
      ]
     },
     "execution_count": 46,
     "metadata": {},
     "output_type": "execute_result"
    }
   ],
   "source": [
    "pd.read_csv('updated_crypto_posts.csv').shape"
   ]
  },
  {
   "cell_type": "code",
   "execution_count": 47,
   "metadata": {},
   "outputs": [
    {
     "data": {
      "text/plain": [
       "(9562, 8)"
      ]
     },
     "execution_count": 47,
     "metadata": {},
     "output_type": "execute_result"
    }
   ],
   "source": [
    "updated_posts[updated_posts.body == \"[removed]\"].shape"
   ]
  },
  {
   "cell_type": "code",
   "execution_count": 48,
   "metadata": {},
   "outputs": [],
   "source": [
    "updated_with_text = updated_posts[updated_posts.body == \"[removed]\"]"
   ]
  },
  {
   "cell_type": "code",
   "execution_count": 49,
   "metadata": {},
   "outputs": [],
   "source": [
    "updated_with_text.to_csv(path_or_buf = 'updated_with_text_crypto_posts.csv')"
   ]
  },
  {
   "cell_type": "code",
   "execution_count": 50,
   "metadata": {},
   "outputs": [
    {
     "name": "stdout",
     "output_type": "stream",
     "text": [
      "Getting Random Crypto Posts.ipynb\r\n",
      "Untitled.ipynb\r\n",
      "psaw reddit pull.ipynb\r\n",
      "random_crypto_posts_2022_03_27_13_44_30.csv\r\n",
      "random_crypto_posts_2022_03_27_14_48_17.csv\r\n",
      "random_crypto_posts_2022_03_27_16_28_19.csv\r\n",
      "updated_crypto_posts.csv\r\n",
      "updated_with_text_crypto_posts.csv\r\n"
     ]
    }
   ],
   "source": [
    "ls"
   ]
  },
  {
   "cell_type": "code",
   "execution_count": null,
   "metadata": {},
   "outputs": [],
   "source": []
  }
 ],
 "metadata": {
  "kernelspec": {
   "display_name": "Python 3",
   "language": "python",
   "name": "python3"
  },
  "language_info": {
   "codemirror_mode": {
    "name": "ipython",
    "version": 3
   },
   "file_extension": ".py",
   "mimetype": "text/x-python",
   "name": "python",
   "nbconvert_exporter": "python",
   "pygments_lexer": "ipython3",
   "version": "3.6.5"
  }
 },
 "nbformat": 4,
 "nbformat_minor": 2
}
